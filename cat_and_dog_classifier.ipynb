{
  "nbformat": 4,
  "nbformat_minor": 0,
  "metadata": {
    "colab": {
      "name": "cat_and_dog_classifier.ipynb",
      "provenance": [],
      "collapsed_sections": [],
      "include_colab_link": true
    },
    "kernelspec": {
      "name": "python3",
      "display_name": "Python 3"
    }
  },
  "cells": [
    {
      "cell_type": "markdown",
      "metadata": {
        "id": "view-in-github",
        "colab_type": "text"
      },
      "source": [
        "<a href=\"https://colab.research.google.com/github/chandelsahil04/cat_dog_classifier/blob/main/cat_and_dog_classifier.ipynb\" target=\"_parent\"><img src=\"https://colab.research.google.com/assets/colab-badge.svg\" alt=\"Open In Colab\"/></a>"
      ]
    },
    {
      "cell_type": "markdown",
      "metadata": {
        "id": "3DR-eO17geWu"
      },
      "source": [
        "# Convolutional Neural Network"
      ]
    },
    {
      "cell_type": "markdown",
      "metadata": {
        "id": "EMefrVPCg-60"
      },
      "source": [
        "### Importing the libraries"
      ]
    },
    {
      "cell_type": "code",
      "metadata": {
        "id": "sCV30xyVhFbE"
      },
      "source": [
        "import tensorflow as tf\n",
        "from keras.preprocessing.image import ImageDataGenerator"
      ],
      "execution_count": 1,
      "outputs": []
    },
    {
      "cell_type": "code",
      "metadata": {
        "id": "FIleuCAjoFD8",
        "colab": {
          "base_uri": "https://localhost:8080/",
          "height": 35
        },
        "outputId": "1e78d872-3e08-4d84-9edd-930110c982a9"
      },
      "source": [
        "tf.__version__"
      ],
      "execution_count": 2,
      "outputs": [
        {
          "output_type": "execute_result",
          "data": {
            "application/vnd.google.colaboratory.intrinsic+json": {
              "type": "string"
            },
            "text/plain": [
              "'2.7.0'"
            ]
          },
          "metadata": {},
          "execution_count": 2
        }
      ]
    },
    {
      "cell_type": "markdown",
      "metadata": {
        "id": "oxQxCBWyoGPE"
      },
      "source": [
        "## Part 1 - Data Preprocessing"
      ]
    },
    {
      "cell_type": "code",
      "metadata": {
        "colab": {
          "base_uri": "https://localhost:8080/"
        },
        "id": "llw3BTvjNJeY",
        "outputId": "ab0b54d3-af97-4a2a-af1c-b703f31c5190"
      },
      "source": [
        "from google.colab import drive\n",
        "drive.mount('/content/drive')"
      ],
      "execution_count": 3,
      "outputs": [
        {
          "output_type": "stream",
          "name": "stdout",
          "text": [
            "Mounted at /content/drive\n"
          ]
        }
      ]
    },
    {
      "cell_type": "markdown",
      "metadata": {
        "id": "MvE-heJNo3GG"
      },
      "source": [
        "### Preprocessing the Training set"
      ]
    },
    {
      "cell_type": "code",
      "metadata": {
        "id": "0koUcJMJpEBD",
        "colab": {
          "base_uri": "https://localhost:8080/"
        },
        "outputId": "3b9a81f7-7ce8-436f-efe6-742c54e094f3"
      },
      "source": [
        "train_datagen = ImageDataGenerator(rescale = 1./255,\n",
        "                                   shear_range = 0.2,\n",
        "                                   zoom_range = 0.2,\n",
        "                                   horizontal_flip = True)\n",
        "training_set = train_datagen.flow_from_directory('/content/drive/MyDrive/Colab Notebooks/dataset/training_set',\n",
        "                                                 target_size = (64, 64),\n",
        "                                                 batch_size = 32,\n",
        "                                                 class_mode = 'binary')"
      ],
      "execution_count": 4,
      "outputs": [
        {
          "output_type": "stream",
          "name": "stdout",
          "text": [
            "Found 8000 images belonging to 2 classes.\n"
          ]
        }
      ]
    },
    {
      "cell_type": "markdown",
      "metadata": {
        "id": "mrCMmGw9pHys"
      },
      "source": [
        "### Preprocessing the Test set"
      ]
    },
    {
      "cell_type": "code",
      "metadata": {
        "id": "SH4WzfOhpKc3",
        "colab": {
          "base_uri": "https://localhost:8080/"
        },
        "outputId": "50119a16-65ce-43a4-e3e9-729188c7e4cd"
      },
      "source": [
        "test_datagen = ImageDataGenerator(rescale = 1./255)\n",
        "test_set = test_datagen.flow_from_directory('/content/drive/MyDrive/Colab Notebooks/dataset/test_set',\n",
        "                                            target_size = (64, 64),\n",
        "                                            batch_size = 32,\n",
        "                                            class_mode = 'binary')"
      ],
      "execution_count": 5,
      "outputs": [
        {
          "output_type": "stream",
          "name": "stdout",
          "text": [
            "Found 2000 images belonging to 2 classes.\n"
          ]
        }
      ]
    },
    {
      "cell_type": "markdown",
      "metadata": {
        "id": "af8O4l90gk7B"
      },
      "source": [
        "## Part 2 - Building the CNN"
      ]
    },
    {
      "cell_type": "markdown",
      "metadata": {
        "id": "ces1gXY2lmoX"
      },
      "source": [
        "### Initialising the CNN"
      ]
    },
    {
      "cell_type": "code",
      "metadata": {
        "id": "SAUt4UMPlhLS"
      },
      "source": [
        "cnn = tf.keras.models.Sequential()"
      ],
      "execution_count": 6,
      "outputs": []
    },
    {
      "cell_type": "markdown",
      "metadata": {
        "id": "u5YJj_XMl5LF"
      },
      "source": [
        "### Step 1 - Convolution"
      ]
    },
    {
      "cell_type": "code",
      "metadata": {
        "id": "XPzPrMckl-hV"
      },
      "source": [
        "cnn.add(tf.keras.layers.Conv2D(filters=32, kernel_size=3, activation='relu', input_shape=[64, 64, 3]))"
      ],
      "execution_count": 7,
      "outputs": []
    },
    {
      "cell_type": "markdown",
      "metadata": {
        "id": "tf87FpvxmNOJ"
      },
      "source": [
        "### Step 2 - Pooling"
      ]
    },
    {
      "cell_type": "code",
      "metadata": {
        "id": "ncpqPl69mOac"
      },
      "source": [
        "cnn.add(tf.keras.layers.MaxPool2D(pool_size=2, strides=2))"
      ],
      "execution_count": 8,
      "outputs": []
    },
    {
      "cell_type": "markdown",
      "metadata": {
        "id": "xaTOgD8rm4mU"
      },
      "source": [
        "### Adding a second convolutional layer"
      ]
    },
    {
      "cell_type": "code",
      "metadata": {
        "id": "i_-FZjn_m8gk"
      },
      "source": [
        "cnn.add(tf.keras.layers.Conv2D(filters=32, kernel_size=3, activation='relu'))\n",
        "cnn.add(tf.keras.layers.MaxPool2D(pool_size=2, strides=2))"
      ],
      "execution_count": 9,
      "outputs": []
    },
    {
      "cell_type": "markdown",
      "metadata": {
        "id": "tmiEuvTunKfk"
      },
      "source": [
        "### Step 3 - Flattening"
      ]
    },
    {
      "cell_type": "code",
      "metadata": {
        "id": "6AZeOGCvnNZn"
      },
      "source": [
        "cnn.add(tf.keras.layers.Flatten())"
      ],
      "execution_count": 10,
      "outputs": []
    },
    {
      "cell_type": "markdown",
      "metadata": {
        "id": "dAoSECOm203v"
      },
      "source": [
        "### Step 4 - Full Connection"
      ]
    },
    {
      "cell_type": "code",
      "metadata": {
        "id": "8GtmUlLd26Nq"
      },
      "source": [
        "cnn.add(tf.keras.layers.Dense(units=128, activation='relu'))"
      ],
      "execution_count": 11,
      "outputs": []
    },
    {
      "cell_type": "markdown",
      "metadata": {
        "id": "yTldFvbX28Na"
      },
      "source": [
        "### Step 5 - Output Layer"
      ]
    },
    {
      "cell_type": "code",
      "metadata": {
        "id": "1p_Zj1Mc3Ko_"
      },
      "source": [
        "cnn.add(tf.keras.layers.Dense(units=1, activation='sigmoid'))"
      ],
      "execution_count": 12,
      "outputs": []
    },
    {
      "cell_type": "markdown",
      "metadata": {
        "id": "D6XkI90snSDl"
      },
      "source": [
        "## Part 3 - Training the CNN"
      ]
    },
    {
      "cell_type": "markdown",
      "metadata": {
        "id": "vfrFQACEnc6i"
      },
      "source": [
        "### Compiling the CNN"
      ]
    },
    {
      "cell_type": "code",
      "metadata": {
        "id": "NALksrNQpUlJ"
      },
      "source": [
        "cnn.compile(optimizer = 'adam', loss = 'binary_crossentropy', metrics = ['accuracy'])"
      ],
      "execution_count": 13,
      "outputs": []
    },
    {
      "cell_type": "markdown",
      "metadata": {
        "id": "ehS-v3MIpX2h"
      },
      "source": [
        "### Training the CNN on the Training set and evaluating it on the Test set"
      ]
    },
    {
      "cell_type": "code",
      "metadata": {
        "id": "XUj1W4PJptta",
        "colab": {
          "base_uri": "https://localhost:8080/"
        },
        "outputId": "64534879-408d-4942-ffa4-d425e3206ad4"
      },
      "source": [
        "cnn.fit(x = training_set, validation_data = test_set, epochs = 25)"
      ],
      "execution_count": 14,
      "outputs": [
        {
          "output_type": "stream",
          "name": "stdout",
          "text": [
            "Epoch 1/25\n",
            "250/250 [==============================] - 1528s 6s/step - loss: 0.6721 - accuracy: 0.5831 - val_loss: 0.6243 - val_accuracy: 0.6750\n",
            "Epoch 2/25\n",
            "250/250 [==============================] - 79s 316ms/step - loss: 0.6002 - accuracy: 0.6791 - val_loss: 0.6096 - val_accuracy: 0.6760\n",
            "Epoch 3/25\n",
            "250/250 [==============================] - 78s 313ms/step - loss: 0.5685 - accuracy: 0.7061 - val_loss: 0.5688 - val_accuracy: 0.7090\n",
            "Epoch 4/25\n",
            "250/250 [==============================] - 79s 316ms/step - loss: 0.5381 - accuracy: 0.7293 - val_loss: 0.5270 - val_accuracy: 0.7420\n",
            "Epoch 5/25\n",
            "250/250 [==============================] - 80s 318ms/step - loss: 0.5156 - accuracy: 0.7458 - val_loss: 0.5004 - val_accuracy: 0.7625\n",
            "Epoch 6/25\n",
            "250/250 [==============================] - 79s 318ms/step - loss: 0.5014 - accuracy: 0.7504 - val_loss: 0.4849 - val_accuracy: 0.7680\n",
            "Epoch 7/25\n",
            "250/250 [==============================] - 80s 320ms/step - loss: 0.4769 - accuracy: 0.7703 - val_loss: 0.4900 - val_accuracy: 0.7770\n",
            "Epoch 8/25\n",
            "250/250 [==============================] - 80s 321ms/step - loss: 0.4591 - accuracy: 0.7844 - val_loss: 0.4734 - val_accuracy: 0.7845\n",
            "Epoch 9/25\n",
            "250/250 [==============================] - 81s 325ms/step - loss: 0.4501 - accuracy: 0.7847 - val_loss: 0.5018 - val_accuracy: 0.7625\n",
            "Epoch 10/25\n",
            "250/250 [==============================] - 80s 321ms/step - loss: 0.4336 - accuracy: 0.7981 - val_loss: 0.4835 - val_accuracy: 0.7855\n",
            "Epoch 11/25\n",
            "250/250 [==============================] - 80s 318ms/step - loss: 0.4263 - accuracy: 0.8085 - val_loss: 0.4712 - val_accuracy: 0.7885\n",
            "Epoch 12/25\n",
            "250/250 [==============================] - 80s 319ms/step - loss: 0.4102 - accuracy: 0.8111 - val_loss: 0.4557 - val_accuracy: 0.8040\n",
            "Epoch 13/25\n",
            "250/250 [==============================] - 80s 320ms/step - loss: 0.4028 - accuracy: 0.8195 - val_loss: 0.4643 - val_accuracy: 0.7910\n",
            "Epoch 14/25\n",
            "250/250 [==============================] - 80s 319ms/step - loss: 0.3768 - accuracy: 0.8269 - val_loss: 0.4624 - val_accuracy: 0.8055\n",
            "Epoch 15/25\n",
            "250/250 [==============================] - 80s 319ms/step - loss: 0.3637 - accuracy: 0.8395 - val_loss: 0.4557 - val_accuracy: 0.8030\n",
            "Epoch 16/25\n",
            "250/250 [==============================] - 80s 322ms/step - loss: 0.3577 - accuracy: 0.8370 - val_loss: 0.4978 - val_accuracy: 0.7945\n",
            "Epoch 17/25\n",
            "250/250 [==============================] - 81s 325ms/step - loss: 0.3489 - accuracy: 0.8462 - val_loss: 0.4557 - val_accuracy: 0.8005\n",
            "Epoch 18/25\n",
            "250/250 [==============================] - 81s 323ms/step - loss: 0.3357 - accuracy: 0.8514 - val_loss: 0.5037 - val_accuracy: 0.7885\n",
            "Epoch 19/25\n",
            "250/250 [==============================] - 81s 326ms/step - loss: 0.3247 - accuracy: 0.8586 - val_loss: 0.4590 - val_accuracy: 0.8075\n",
            "Epoch 20/25\n",
            "250/250 [==============================] - 81s 326ms/step - loss: 0.3038 - accuracy: 0.8704 - val_loss: 0.4823 - val_accuracy: 0.8130\n",
            "Epoch 21/25\n",
            "250/250 [==============================] - 81s 325ms/step - loss: 0.2917 - accuracy: 0.8730 - val_loss: 0.5557 - val_accuracy: 0.7960\n",
            "Epoch 22/25\n",
            "250/250 [==============================] - 81s 326ms/step - loss: 0.2932 - accuracy: 0.8750 - val_loss: 0.5365 - val_accuracy: 0.7830\n",
            "Epoch 23/25\n",
            "250/250 [==============================] - 82s 327ms/step - loss: 0.2888 - accuracy: 0.8744 - val_loss: 0.5054 - val_accuracy: 0.7955\n",
            "Epoch 24/25\n",
            "250/250 [==============================] - 82s 328ms/step - loss: 0.2549 - accuracy: 0.8949 - val_loss: 0.5669 - val_accuracy: 0.7940\n",
            "Epoch 25/25\n",
            "250/250 [==============================] - 82s 326ms/step - loss: 0.2473 - accuracy: 0.8960 - val_loss: 0.5415 - val_accuracy: 0.7995\n"
          ]
        },
        {
          "output_type": "execute_result",
          "data": {
            "text/plain": [
              "<keras.callbacks.History at 0x7ff58e085a10>"
            ]
          },
          "metadata": {},
          "execution_count": 14
        }
      ]
    },
    {
      "cell_type": "markdown",
      "metadata": {
        "id": "U3PZasO0006Z"
      },
      "source": [
        "## Part 4 - Making a single prediction"
      ]
    },
    {
      "cell_type": "code",
      "metadata": {
        "id": "gsSiWEJY1BPB"
      },
      "source": [
        "import numpy as np\n",
        "from keras.preprocessing import image\n",
        "test_image = image.load_img('/content/drive/MyDrive/Colab Notebooks/dataset/single_prediction/cat_or_dog_1.jpg', target_size = (64, 64))\n",
        "test_image = image.img_to_array(test_image)\n",
        "test_image = np.expand_dims(test_image, axis = 0)\n",
        "result = cnn.predict(test_image)\n",
        "training_set.class_indices\n",
        "if result[0][0] == 1:\n",
        "  prediction = 'dog'\n",
        "else:\n",
        "  prediction = 'cat'"
      ],
      "execution_count": 16,
      "outputs": []
    },
    {
      "cell_type": "code",
      "metadata": {
        "id": "ED9KB3I54c1i",
        "colab": {
          "base_uri": "https://localhost:8080/"
        },
        "outputId": "8b4b6996-dc31-41b8-93a4-765243cc51e6"
      },
      "source": [
        "print(prediction)"
      ],
      "execution_count": 17,
      "outputs": [
        {
          "output_type": "stream",
          "name": "stdout",
          "text": [
            "dog\n"
          ]
        }
      ]
    },
    {
      "cell_type": "code",
      "metadata": {
        "id": "tyWiHEXouBcM"
      },
      "source": [
        ""
      ],
      "execution_count": null,
      "outputs": []
    }
  ]
}